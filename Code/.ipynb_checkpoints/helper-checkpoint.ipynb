{
 "cells": [
  {
   "cell_type": "code",
   "execution_count": null,
   "metadata": {},
   "outputs": [],
   "source": [
    "def create_div(res,k):\n",
    "    div_dic = {}\n",
    "    for key in res.keys():\n",
    "        B = np.dot(res[key],res[key].T)\n",
    "        x = (np.prod(sorted(np.linalg.eigvals(B))[-k:])).real #/ np.prod(sorted(1+np.linalg.eigvals(B))).real\n",
    "        \n",
    "        div_dic[key] = x\n",
    "   \n",
    "    return div_dic\n"
   ]
  }
 ],
 "metadata": {
  "kernelspec": {
   "display_name": "Python 3",
   "language": "python",
   "name": "python3"
  },
  "language_info": {
   "codemirror_mode": {
    "name": "ipython",
    "version": 3
   },
   "file_extension": ".py",
   "mimetype": "text/x-python",
   "name": "python",
   "nbconvert_exporter": "python",
   "pygments_lexer": "ipython3",
   "version": "3.6.9"
  }
 },
 "nbformat": 4,
 "nbformat_minor": 2
}
