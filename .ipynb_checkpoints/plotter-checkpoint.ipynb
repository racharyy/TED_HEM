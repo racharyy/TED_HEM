{
 "cells": [
  {
   "cell_type": "code",
   "execution_count": 1,
   "metadata": {},
   "outputs": [],
   "source": [
    "import matplotlib.pyplot as plt\n",
    "import cmath\n",
    "%matplotlib inline\n",
    "import numpy as np\n",
    "from scipy import stats\n",
    "from scipy.stats import sem\n",
    "from sklearn.manifold import TSNE\n",
    "from scipy.interpolate import interp1d\n",
    "from sklearn.preprocessing import MinMaxScaler\n",
    "from sklearn.metrics import mutual_info_score\n",
    "import pickle\n",
    "import pandas as pd\n",
    "import seaborn as sns\n",
    "from matplotlib.ticker import (MultipleLocator, FormatStrFormatter,\n",
    "                               AutoMinorLocator)\n",
    "from matplotlib.ticker import StrMethodFormatter"
   ]
  },
  {
   "cell_type": "markdown",
   "metadata": {},
   "source": [
    "## 2. Calculating Text Diversity from topic representation"
   ]
  },
  {
   "cell_type": "code",
   "execution_count": null,
   "metadata": {},
   "outputs": [],
   "source": [
    "def create_div(res,k):\n",
    "    div_dic = {}\n",
    "    for key in res.keys():\n",
    "        B = np.dot(res[key],res[key].T)\n",
    "        x = (np.prod(sorted(np.linalg.eigvals(B))[-k:])).real #/ np.prod(sorted(1+np.linalg.eigvals(B))).real\n",
    "        \n",
    "        div_dic[key] = x\n",
    "   \n",
    "    return div_dic\n",
    "\n",
    "\n",
    "topics_to_keep = 5\n",
    "topic_representation = pickle.load(open('topic_representation.pkl','rb'))\n",
    "text_div_dic = create_div(topic_representation,topics_to_keep)\n",
    "plt.hist(text_div_dic.values(),bins=100)\n",
    "pickle.dump(text_div_dic,open('text_div_dic.pkl','wb'))"
   ]
  }
 ],
 "metadata": {
  "kernelspec": {
   "display_name": "Python 3",
   "language": "python",
   "name": "python3"
  },
  "language_info": {
   "codemirror_mode": {
    "name": "ipython",
    "version": 3
   },
   "file_extension": ".py",
   "mimetype": "text/x-python",
   "name": "python",
   "nbconvert_exporter": "python",
   "pygments_lexer": "ipython3",
   "version": "3.6.9"
  }
 },
 "nbformat": 4,
 "nbformat_minor": 2
}
